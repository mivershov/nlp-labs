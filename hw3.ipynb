{
 "cells": [
  {
   "cell_type": "markdown",
   "metadata": {},
   "source": [
    "# Домашнее задание 3\n",
    "\n",
    "## Сбор данных из интернета и генерация текстов\n",
    "\n",
    "В этом домашнем задании вам предстоит: \n",
    "1. выбрать свой источник структурированных данных (прогноз погоды, курс акций, счет спортивных мероприятий, или что-нибудь еще) \n",
    "2. научиться извлекать данные из с выбранной веб-страницы\n",
    "3. научиться генерировать текст по шаблонам"
   ]
  },
  {
   "cell_type": "markdown",
   "metadata": {},
   "source": [
    "## Часть 1\n",
    "\n",
    "Выберете источник данных, который вам симпатичен. По умолчанию, предлагаем использовать данные о погоде в Москве: \n",
    "https://www.gismeteo.ru/weather-moscow-4368/. Извлеките из html-кода страницы температуру сегодня, уровень осадков и скорость ветра."
   ]
  },
  {
   "cell_type": "markdown",
   "metadata": {},
   "source": [
    "В рамках домашнего задания буду брать курсы доллара и евро с сайта ЦБ РФ"
   ]
  },
  {
   "cell_type": "code",
   "execution_count": 1,
   "metadata": {
    "collapsed": true
   },
   "outputs": [],
   "source": [
    "import pandas as pd\n",
    "import re\n",
    "import urllib.request\n",
    "import numpy as np\n",
    "\n",
    "from scrapy.selector import Selector\n",
    "from scrapy.utils.markup import remove_tags"
   ]
  },
  {
   "cell_type": "code",
   "execution_count": 2,
   "metadata": {
    "collapsed": true
   },
   "outputs": [],
   "source": [
    "def get_currency(date):\n",
    "    url = 'http://www.cbr.ru/currency_base/daily.aspx?date_req=' + str(date)\n",
    "    req = urllib.request.Request(url, headers={'User-Agent': \"Magic Browser\"})\n",
    "    html = urllib.request.urlopen(url)\n",
    "    html = html.read()\n",
    "    usd = remove_tags(str(Selector(text=html).xpath('//*[@id=\"content\"]/div/table/tbody/tr[12]/td[5]').extract()))\n",
    "    eur = remove_tags(str(Selector(text=html).xpath('//*[@id=\"content\"]/div/table/tbody/tr[13]/td[5]').extract()))\n",
    "    return round(float(usd[2:-2].replace(',', '.')), 2), round(float(eur[2:-2].replace(',', '.')), 2)"
   ]
  },
  {
   "cell_type": "code",
   "execution_count": 3,
   "metadata": {},
   "outputs": [
    {
     "name": "stdout",
     "output_type": "stream",
     "text": [
      "Currencies on 23.12.2017:\n",
      "usd: 58.32\n",
      "eur: 69.13\n"
     ]
    }
   ],
   "source": [
    "date = '23.12.2017'\n",
    "usd, eur = get_currency(date)\n",
    "print('Currencies on {}:\\nusd: {}\\neur: {}'.format(date, usd, eur))"
   ]
  },
  {
   "cell_type": "markdown",
   "metadata": {},
   "source": [
    "## Часть 2\n",
    "Запрограммируйте шаблон, описывающие температуру, уровень осадков и скорость ветра сегодня. Например,\n",
    "\"Температура сегодня составляет X градусов\", где Х – излеченное выше число. Сгенерируйте таким образом описание погоды сегодня. Учтите, величина X влияет на грамматическое число, использованное в единицах измерения (\"двадцать градусов\", но \"двадцать один градус\"). Используйте бибилиотеку utg или дополнительные функции pymorphy2"
   ]
  },
  {
   "cell_type": "code",
   "execution_count": 4,
   "metadata": {
    "collapsed": true
   },
   "outputs": [],
   "source": [
    "import pymorphy2\n",
    "def soglasovanie_slov(number, word):\n",
    "    morph = pymorphy2.MorphAnalyzer()\n",
    "    word_0form = morph.parse(word)[0] \n",
    "    return word_0form.make_agree_with_number(number).word"
   ]
  },
  {
   "cell_type": "code",
   "execution_count": 5,
   "metadata": {},
   "outputs": [
    {
     "name": "stdout",
     "output_type": "stream",
     "text": [
      "Курс USD (ЦБ РФ) на 20.12.2013: 45 рублей 6 копеек\n",
      "Курс EUR (ЦБ РФ) на 20.12.2013: 52 рубля 93 копейки\n"
     ]
    }
   ],
   "source": [
    "def show_currencies(date):\n",
    "    usd, eur = get_currency(date)\n",
    "    print('Курс USD (ЦБ РФ) на {}: {} {} {:.0f} {}'.format(date, int(usd), soglasovanie_slov(int(usd), 'рубль'), \\\n",
    "                                                               int(round(usd-int(usd), 2)*100), soglasovanie_slov(int(round(usd-int(usd), 2)*100), 'копейка')))\n",
    "    print('Курс EUR (ЦБ РФ) на {}: {} {} {:.0f} {}'.format(date, int(eur), soglasovanie_slov(int(eur), 'рубль'), \\\n",
    "                                                               int(round(eur-int(eur), 2)*100), soglasovanie_slov(int(round(eur-int(eur), 2)*100), 'копейка')))\n",
    "show_currencies('20.12.2013')"
   ]
  },
  {
   "cell_type": "markdown",
   "metadata": {
    "collapsed": true
   },
   "source": [
    "##### Часть 3 (необязательная)\n",
    "Соберите данные не только за сегодняшний, но и за вчерашний день, и напишите шаблоны, которые сравнивают вчерашние и сегодняшние показатели (например, \"сегодня похолодало на Х градусов по сравнению со вчера\")."
   ]
  },
  {
   "cell_type": "code",
   "execution_count": 6,
   "metadata": {
    "collapsed": true
   },
   "outputs": [],
   "source": [
    "from datetime import datetime, timedelta\n",
    "ts = datetime.today()\n",
    "today = ts.strftime('%d.%m.%Y')\n",
    "yesterday = (ts - timedelta(1)).strftime('%d.%m.%Y')\n",
    "tomorrow = (ts + timedelta(1)).strftime('%d.%m.%Y')"
   ]
  },
  {
   "cell_type": "code",
   "execution_count": 7,
   "metadata": {},
   "outputs": [
    {
     "name": "stdout",
     "output_type": "stream",
     "text": [
      "С 25.12.2017 по 26.12.2017 курс доллара (USD) упал на 0 рублей 12 копеек\n",
      "С 25.12.2017 по 26.12.2017 курс евро (EUR) упал на 0 рублей 4 копейки\n",
      "Курс USD (ЦБ РФ) на 25.12.2017: 58 рублей 32 копейки\n",
      "Курс EUR (ЦБ РФ) на 25.12.2017: 69 рублей 13 копеек\n",
      "Курс USD (ЦБ РФ) на 26.12.2017: 58 рублей 20 копеек\n",
      "Курс EUR (ЦБ РФ) на 26.12.2017: 69 рублей 9 копеек\n"
     ]
    }
   ],
   "source": [
    "def show_currencies_chng(date1, date2):\n",
    "    if date1 > date2:\n",
    "        print('Вторая дата должна быть позже первой!')\n",
    "        return 0\n",
    "    usd1, eur1 =  get_currency(date1)\n",
    "    usd2, eur2 = get_currency(date2)\n",
    "    if int(usd2*100) == int(usd1*100):\n",
    "        print('С {} по {} курс доллара (USD) не изменился'.format(date1, date2))\n",
    "    elif usd2 > usd1:    \n",
    "        print('С {} по {} курс доллара (USD) вырос на {} {} {} {}'\\\n",
    "              .format(date1, date2, int(usd2-usd1), soglasovanie_slov(int(usd2-usd1), 'рубль'),\\\n",
    "                      (round(usd2-usd1, 2)-int(usd2-usd1))*100, soglasovanie_slov(int((round(usd2-usd1, 2)-int(usd2-usd1))*100), 'копейка')))\n",
    "    elif usd2 < usd1:\n",
    "        print('С {} по {} курс доллара (USD) упал на {} {} {} {}'\\\n",
    "              .format(date1, date2, int(usd1-usd2), soglasovanie_slov(int(usd1-usd2), 'рубль'),\\\n",
    "                      int((round(usd1-usd2, 2)-int(usd1-usd2))*100), soglasovanie_slov(int((round(usd1-usd2, 2)-int(usd1-usd2))*100), 'копейка')))\n",
    "    \n",
    "    if int(eur2*100) == int(eur1*100):\n",
    "        print('С {} по {} курс евро (EUR) не изменился'.format(date1, date2))\n",
    "    elif eur2 > eur1:    \n",
    "        print('С {} по {} курс евро (EUR) вырос на {} {} {} {}'\\\n",
    "              .format(date1, date2, int(eur2-eur1), soglasovanie_slov(int(eur2-eur1), 'рубль'),\\\n",
    "                      (round(eur2-eur1, 2)-int(eur2-eur1))*100, soglasovanie_slov(int(((eur2-eur1)-int(eur2-eur1))*100), 'копейка')))\n",
    "    elif eur2 < eur1:\n",
    "        print('С {} по {} курс евро (EUR) упал на {} {} {} {}'\\\n",
    "              .format(date1, date2, int(eur1-eur2), soglasovanie_slov(int(eur1-eur2), 'рубль'),\\\n",
    "                      int((round(eur1-eur2, 2)-int(eur1-eur2))*100), soglasovanie_slov(int(((eur1-eur2)-int(eur1-eur2))*100), 'копейка')))\n",
    "    \n",
    "show_currencies_chng(today, tomorrow)\n",
    "\n",
    "show_currencies(today)\n",
    "show_currencies(tomorrow)"
   ]
  },
  {
   "cell_type": "code",
   "execution_count": null,
   "metadata": {
    "collapsed": true
   },
   "outputs": [],
   "source": []
  }
 ],
 "metadata": {
  "kernelspec": {
   "display_name": "Python 3",
   "language": "python",
   "name": "python3"
  },
  "language_info": {
   "codemirror_mode": {
    "name": "ipython",
    "version": 3
   },
   "file_extension": ".py",
   "mimetype": "text/x-python",
   "name": "python",
   "nbconvert_exporter": "python",
   "pygments_lexer": "ipython3",
   "version": "3.6.2"
  }
 },
 "nbformat": 4,
 "nbformat_minor": 2
}
