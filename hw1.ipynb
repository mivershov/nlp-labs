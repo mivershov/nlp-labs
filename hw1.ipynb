{
 "cells": [
  {
   "cell_type": "markdown",
   "metadata": {},
   "source": [
    "# Домашнее задание по обработке текстов\n",
    "\n",
    "## Предсказание цены акции по экономическим новостям\n",
    "\n",
    "Входные данные:\n",
    "* Новости о компании \"Газпром\", начиная с 2010 года\n",
    "* Стоимость акций компании \"Газпром\" на ММВБ, начиная с 2010 года\n",
    "    * цена открытия (Open)\n",
    "    * цена закрытия (ClosingPrice)\n",
    "    * максимальная цена за день (DailyHigh)\n",
    "    * минимальная цена за день (DailyLow) \n",
    "    * объем бумаг (VolumePcs)\n"
   ]
  },
  {
   "cell_type": "code",
   "execution_count": 3,
   "metadata": {},
   "outputs": [
    {
     "name": "stdout",
     "output_type": "stream",
     "text": [
      "Populating the interactive namespace from numpy and matplotlib\n"
     ]
    }
   ],
   "source": [
    "from matplotlib import pyplot as plt\n",
    "import seaborn as sns\n",
    "%pylab inline\n",
    "%matplotlib inline\n",
    "\n",
    "# отключим предупреждения Anaconda\n",
    "import warnings\n",
    "warnings.simplefilter('ignore')"
   ]
  },
  {
   "cell_type": "code",
   "execution_count": 4,
   "metadata": {},
   "outputs": [
    {
     "data": {
      "text/html": [
       "<div>\n",
       "<style>\n",
       "    .dataframe thead tr:only-child th {\n",
       "        text-align: right;\n",
       "    }\n",
       "\n",
       "    .dataframe thead th {\n",
       "        text-align: left;\n",
       "    }\n",
       "\n",
       "    .dataframe tbody tr th {\n",
       "        vertical-align: top;\n",
       "    }\n",
       "</style>\n",
       "<table border=\"1\" class=\"dataframe\">\n",
       "  <thead>\n",
       "    <tr style=\"text-align: right;\">\n",
       "      <th></th>\n",
       "      <th>date</th>\n",
       "      <th>text</th>\n",
       "    </tr>\n",
       "  </thead>\n",
       "  <tbody>\n",
       "    <tr>\n",
       "      <th>0</th>\n",
       "      <td>09.11.2017</td>\n",
       "      <td>Компания рассчитывает на решение по газовому с...</td>\n",
       "    </tr>\n",
       "    <tr>\n",
       "      <th>1</th>\n",
       "      <td>08.11.2017</td>\n",
       "      <td>Как и предполагал “Ъ”, «Газпром», воспользова...</td>\n",
       "    </tr>\n",
       "    <tr>\n",
       "      <th>2</th>\n",
       "      <td>01.11.2017</td>\n",
       "      <td>Новая редакция американских санкций ставит по...</td>\n",
       "    </tr>\n",
       "    <tr>\n",
       "      <th>3</th>\n",
       "      <td>30.10.2017</td>\n",
       "      <td>Как стало известно “Ъ”, известный на рынке ри...</td>\n",
       "    </tr>\n",
       "    <tr>\n",
       "      <th>4</th>\n",
       "      <td>23.10.2017</td>\n",
       "      <td>НОВАТЭК, который через пять лет собирается за...</td>\n",
       "    </tr>\n",
       "  </tbody>\n",
       "</table>\n",
       "</div>"
      ],
      "text/plain": [
       "         date                                               text\n",
       "0  09.11.2017  Компания рассчитывает на решение по газовому с...\n",
       "1  08.11.2017   Как и предполагал “Ъ”, «Газпром», воспользова...\n",
       "2  01.11.2017   Новая редакция американских санкций ставит по...\n",
       "3  30.10.2017   Как стало известно “Ъ”, известный на рынке ри...\n",
       "4  23.10.2017   НОВАТЭК, который через пять лет собирается за..."
      ]
     },
     "execution_count": 4,
     "metadata": {},
     "output_type": "execute_result"
    }
   ],
   "source": [
    "import pandas as pd\n",
    "df = pd.read_csv('texts.csv')\n",
    "df.head()"
   ]
  },
  {
   "cell_type": "code",
   "execution_count": 5,
   "metadata": {},
   "outputs": [
    {
     "data": {
      "text/html": [
       "<div>\n",
       "<style>\n",
       "    .dataframe thead tr:only-child th {\n",
       "        text-align: right;\n",
       "    }\n",
       "\n",
       "    .dataframe thead th {\n",
       "        text-align: left;\n",
       "    }\n",
       "\n",
       "    .dataframe tbody tr th {\n",
       "        vertical-align: top;\n",
       "    }\n",
       "</style>\n",
       "<table border=\"1\" class=\"dataframe\">\n",
       "  <thead>\n",
       "    <tr style=\"text-align: right;\">\n",
       "      <th></th>\n",
       "      <th>Date</th>\n",
       "      <th>Open</th>\n",
       "      <th>ClosingPrice</th>\n",
       "      <th>DailyHigh</th>\n",
       "      <th>DailyLow</th>\n",
       "      <th>VolumePcs</th>\n",
       "    </tr>\n",
       "  </thead>\n",
       "  <tbody>\n",
       "    <tr>\n",
       "      <th>0</th>\n",
       "      <td>08.12.2017</td>\n",
       "      <td>133,43000</td>\n",
       "      <td>132,60000</td>\n",
       "      <td>133,90000</td>\n",
       "      <td>132,00000</td>\n",
       "      <td>16037970</td>\n",
       "    </tr>\n",
       "    <tr>\n",
       "      <th>1</th>\n",
       "      <td>07.12.2017</td>\n",
       "      <td>133,70000</td>\n",
       "      <td>133,02000</td>\n",
       "      <td>133,87000</td>\n",
       "      <td>132,81000</td>\n",
       "      <td>18198430</td>\n",
       "    </tr>\n",
       "    <tr>\n",
       "      <th>2</th>\n",
       "      <td>06.12.2017</td>\n",
       "      <td>133,33000</td>\n",
       "      <td>134,00000</td>\n",
       "      <td>134,29000</td>\n",
       "      <td>132,91000</td>\n",
       "      <td>14641730</td>\n",
       "    </tr>\n",
       "    <tr>\n",
       "      <th>3</th>\n",
       "      <td>05.12.2017</td>\n",
       "      <td>133,48000</td>\n",
       "      <td>133,65000</td>\n",
       "      <td>133,99000</td>\n",
       "      <td>132,78000</td>\n",
       "      <td>12684800</td>\n",
       "    </tr>\n",
       "    <tr>\n",
       "      <th>4</th>\n",
       "      <td>04.12.2017</td>\n",
       "      <td>133,01000</td>\n",
       "      <td>133,77000</td>\n",
       "      <td>134,00000</td>\n",
       "      <td>131,93000</td>\n",
       "      <td>17818980</td>\n",
       "    </tr>\n",
       "  </tbody>\n",
       "</table>\n",
       "</div>"
      ],
      "text/plain": [
       "         Date       Open ClosingPrice  DailyHigh   DailyLow  VolumePcs\n",
       "0  08.12.2017  133,43000    132,60000  133,90000  132,00000   16037970\n",
       "1  07.12.2017  133,70000    133,02000  133,87000  132,81000   18198430\n",
       "2  06.12.2017  133,33000    134,00000  134,29000  132,91000   14641730\n",
       "3  05.12.2017  133,48000    133,65000  133,99000  132,78000   12684800\n",
       "4  04.12.2017  133,01000    133,77000  134,00000  131,93000   17818980"
      ]
     },
     "execution_count": 5,
     "metadata": {},
     "output_type": "execute_result"
    }
   ],
   "source": [
    "pr_all = pd.read_csv('gazprom_prices.csv', sep=';')\n",
    "pr_all.head(5)"
   ]
  },
  {
   "cell_type": "code",
   "execution_count": 6,
   "metadata": {},
   "outputs": [
    {
     "name": "stdout",
     "output_type": "stream",
     "text": [
      "<class 'pandas.core.frame.DataFrame'>\n",
      "RangeIndex: 1988 entries, 0 to 1987\n",
      "Data columns (total 6 columns):\n",
      "Date            1988 non-null datetime64[ns]\n",
      "Open            1964 non-null object\n",
      "ClosingPrice    1988 non-null float64\n",
      "DailyHigh       1986 non-null object\n",
      "DailyLow        1986 non-null object\n",
      "VolumePcs       1988 non-null int64\n",
      "dtypes: datetime64[ns](1), float64(1), int64(1), object(3)\n",
      "memory usage: 93.3+ KB\n"
     ]
    }
   ],
   "source": [
    "df['date'] = pd.to_datetime(df.date)\n",
    "pr_all['Date'] = pd.to_datetime(pr_all.Date)\n",
    "pr_all['ClosingPrice'] = pr_all.ClosingPrice.apply(lambda x: x.replace(',', '.'))\n",
    "pr_all['ClosingPrice'] = pd.to_numeric(pr_all.ClosingPrice)\n",
    "pr_all.info()"
   ]
  },
  {
   "cell_type": "markdown",
   "metadata": {},
   "source": [
    "### Часть 1. Вводная\n",
    "\n",
    "Проведите предобработку текстов: если считаете нужным, выполните токенизацию, приведение к нижнему регистру, лемматизацию и/или стемминг. Ответьте на следующие вопросы:\n",
    "* Есть ли корреляция между средней длинной текста за день и ценой закрытия?\n",
    "* Есть ли корреляция между количеством упоминаний Алексея Миллера  и ценой закрытия? Учтите разные варианты написания имени.\n",
    "* Упоминаний какого газопровода в статьях больше: \n",
    "    * \"северный поток\"\n",
    "    * \"турецкий поток\"?\n",
    "* О каких санкциях пишут в статьях?"
   ]
  },
  {
   "cell_type": "markdown",
   "metadata": {},
   "source": [
    "Подготавливаем текст (токенизируем, приводим к нижнему регистру, лемматизируем):"
   ]
  },
  {
   "cell_type": "code",
   "execution_count": 7,
   "metadata": {},
   "outputs": [
    {
     "data": {
      "text/plain": [
       "'компания рассчитывает на решение по газовому спору с украиной до конца декабря газпром ожидает решения стокгольмского арбитража по транзитному спору с украинским нафтогазом не позднее февраля года хотя раньше компания прогнозировала что это произойдет до ноября решение по взаимным искам об условиях поставок газа на украину по мнению монополии суд может принять на месяц раньше до декабря года'"
      ]
     },
     "execution_count": 7,
     "metadata": {},
     "output_type": "execute_result"
    }
   ],
   "source": [
    "import re\n",
    "regex = re.compile(\"[А-Яа-я----]+\")\n",
    "\n",
    "def words_only(text, regex=regex):\n",
    "    return \" \".join(regex.findall(text))\n",
    "\n",
    "\n",
    "df['tok_text'] = df.text.str.lower()\n",
    "df['tok_text'] = df.tok_text.apply(words_only)\n",
    "df['tok_text'].iloc[0]"
   ]
  },
  {
   "cell_type": "code",
   "execution_count": 8,
   "metadata": {},
   "outputs": [
    {
     "name": "stdout",
     "output_type": "stream",
     "text": [
      "157\n",
      "155\n"
     ]
    }
   ],
   "source": [
    "from nltk.corpus import stopwords\n",
    "mystopwords = stopwords.words('russian') + ['это', 'из-за' , 'также',  'г', '-', '-']# - ['не', 'нет']\n",
    "print(len(mystopwords))\n",
    "mystopwords.remove('не')\n",
    "mystopwords.remove('нет')\n",
    "print(len(mystopwords))"
   ]
  },
  {
   "cell_type": "code",
   "execution_count": 9,
   "metadata": {},
   "outputs": [
    {
     "name": "stdout",
     "output_type": "stream",
     "text": [
      "['и', 'в', 'во', 'что', 'он', 'на', 'я', 'с', 'со', 'как', 'а', 'то', 'все', 'она', 'так', 'его', 'но', 'да', 'ты', 'к', 'у', 'же', 'вы', 'за', 'бы', 'по', 'только', 'ее', 'мне', 'было', 'вот', 'от', 'меня', 'еще', 'о', 'из', 'ему', 'теперь', 'когда', 'даже', 'ну', 'вдруг', 'ли', 'если', 'уже', 'или', 'ни', 'быть', 'был', 'него', 'до', 'вас', 'нибудь', 'опять', 'уж', 'вам', 'ведь', 'там', 'потом', 'себя', 'ничего', 'ей', 'может', 'они', 'тут', 'где', 'есть', 'надо', 'ней', 'для', 'мы', 'тебя', 'их', 'чем', 'была', 'сам', 'чтоб', 'без', 'будто', 'чего', 'раз', 'тоже', 'себе', 'под', 'будет', 'ж', 'тогда', 'кто', 'этот', 'того', 'потому', 'этого', 'какой', 'совсем', 'ним', 'здесь', 'этом', 'один', 'почти', 'мой', 'тем', 'чтобы', 'нее', 'сейчас', 'были', 'куда', 'зачем', 'всех', 'никогда', 'можно', 'при', 'наконец', 'два', 'об', 'другой', 'хоть', 'после', 'над', 'больше', 'тот', 'через', 'эти', 'нас', 'про', 'всего', 'них', 'какая', 'много', 'разве', 'три', 'эту', 'моя', 'впрочем', 'хорошо', 'свою', 'этой', 'перед', 'иногда', 'лучше', 'чуть', 'том', 'нельзя', 'такой', 'им', 'более', 'всегда', 'конечно', 'всю', 'между', 'это', 'из-за', 'также', 'г', '-', '-']\n"
     ]
    },
    {
     "data": {
      "text/plain": [
       "'компания рассчитывает решение газовому спору украиной конца декабря газпром ожидает решения стокгольмского арбитража транзитному спору украинским нафтогазом не позднее февраля года хотя раньше компания прогнозировала произойдет ноября решение взаимным искам условиях поставок газа украину мнению монополии суд принять месяц раньше декабря года'"
      ]
     },
     "execution_count": 9,
     "metadata": {},
     "output_type": "execute_result"
    }
   ],
   "source": [
    "print(mystopwords)\n",
    "def  remove_stopwords(text, mystopwords = mystopwords):\n",
    "    try:\n",
    "        return \" \".join([token for token in text.split() if not token in mystopwords])\n",
    "    except:\n",
    "        return \"\"\n",
    "df.tok_text = df.tok_text.apply(remove_stopwords)   \n",
    "df['tok_text'].iloc[0]"
   ]
  },
  {
   "cell_type": "code",
   "execution_count": 10,
   "metadata": {
    "scrolled": true
   },
   "outputs": [
    {
     "name": "stdout",
     "output_type": "stream",
     "text": [
      "('газпром', 2552)\n",
      "('не', 1033)\n",
      "('газа', 961)\n",
      "('млрд', 906)\n",
      "('компании', 703)\n",
      "('руб', 596)\n",
      "('газпрома', 556)\n",
      "('нефть', 449)\n",
      "('компания', 400)\n",
      "('млн', 373)\n",
      "('нефти', 357)\n",
      "('года', 329)\n",
      "('газ', 327)\n",
      "('сообщил', 309)\n",
      "('ъ', 299)\n",
      "('оао', 256)\n",
      "('россии', 245)\n",
      "('говорится', 210)\n",
      "('году', 208)\n",
      "('газпромбанк', 202)\n",
      "('российского', 195)\n",
      "('сказал', 192)\n",
      "('украины', 186)\n",
      "('кубометров', 179)\n",
      "('газпром-медиа', 179)\n",
      "('монополии', 175)\n",
      "('поставок', 172)\n",
      "('поставки', 160)\n",
      "('который', 159)\n",
      "('пока', 159)\n",
      "('правления', 158)\n",
      "('спг', 154)\n",
      "('монополия', 153)\n",
      "('рынке', 153)\n",
      "('заявил', 150)\n",
      "('год', 149)\n",
      "('роснефть', 149)\n",
      "('газопровода', 149)\n",
      "('цены', 142)\n",
      "('проекта', 141)\n",
      "('месторождения', 139)\n",
      "('акций', 138)\n",
      "('проект', 138)\n",
      "('могут', 137)\n",
      "('сообщении', 135)\n",
      "('директоров', 126)\n",
      "('алексей', 126)\n",
      "('александр', 122)\n",
      "('м', 122)\n",
      "('миллер', 121)\n"
     ]
    }
   ],
   "source": [
    "from nltk import FreqDist\n",
    "n_types = []\n",
    "n_tokens = []\n",
    "tokens = []\n",
    "fd = FreqDist()\n",
    "for index, row in df.iterrows():\n",
    "    tokens = row['tok_text'].split()\n",
    "    fd.update(tokens)\n",
    "    n_types.append(len(fd))\n",
    "    n_tokens.append(sum(fd.values()))\n",
    "for i in fd.most_common(50):\n",
    "    print(i)"
   ]
  },
  {
   "cell_type": "code",
   "execution_count": 11,
   "metadata": {},
   "outputs": [
    {
     "name": "stdout",
     "output_type": "stream",
     "text": [
      "Wall time: 40min 6s\n"
     ]
    }
   ],
   "source": [
    "%%time \n",
    "from pymystem3 import Mystem\n",
    "\n",
    "m = Mystem()\n",
    "def lemmatize(text, mystem=m):\n",
    "    try:\n",
    "        return \"\".join(m.lemmatize(text)).strip()  \n",
    "    except:\n",
    "        return \" \"\n",
    "\n",
    "df['lem_text'] = df.tok_text.apply(lemmatize)"
   ]
  },
  {
   "cell_type": "code",
   "execution_count": 12,
   "metadata": {},
   "outputs": [
    {
     "data": {
      "text/plain": [
       "'компания рассчитывать решение газовый спор украина конец декабрь газпром ожидать решение стокгольмский арбитраж транзитный спор украинский нафтогаз не поздно февраль год хотя рано компания прогнозировать происходить ноябрь решение взаимный иск условие поставка газ украина мнение монополия суд принимать месяц рано декабрь год'"
      ]
     },
     "execution_count": 12,
     "metadata": {},
     "output_type": "execute_result"
    }
   ],
   "source": [
    "df['lem_text'].iloc[0]"
   ]
  },
  {
   "cell_type": "code",
   "execution_count": 13,
   "metadata": {
    "collapsed": true
   },
   "outputs": [],
   "source": [
    "df.to_csv('lem_df.csv', sep='|', encoding='utf-8')"
   ]
  },
  {
   "cell_type": "code",
   "execution_count": 14,
   "metadata": {},
   "outputs": [
    {
     "data": {
      "text/plain": [
       "<bound method Mystem.close of <pymystem3.mystem.Mystem object at 0x000001C6E4DCB438>>"
      ]
     },
     "execution_count": 14,
     "metadata": {},
     "output_type": "execute_result"
    }
   ],
   "source": [
    "m.close"
   ]
  },
  {
   "cell_type": "code",
   "execution_count": 15,
   "metadata": {
    "collapsed": true
   },
   "outputs": [],
   "source": [
    "#df = pd.read_csv('lem_df.csv', sep='|', encoding='utf-8')\n",
    "#df['date'] = pd.to_datetime(df.date)"
   ]
  },
  {
   "cell_type": "code",
   "execution_count": 16,
   "metadata": {},
   "outputs": [
    {
     "name": "stdout",
     "output_type": "stream",
     "text": [
      "<class 'pandas.core.frame.DataFrame'>\n",
      "RangeIndex: 1203 entries, 0 to 1202\n",
      "Data columns (total 5 columns):\n",
      "date        1203 non-null datetime64[ns]\n",
      "text        1203 non-null object\n",
      "tok_text    1203 non-null object\n",
      "lem_text    1203 non-null object\n",
      "text_len    1203 non-null int64\n",
      "dtypes: datetime64[ns](1), int64(1), object(3)\n",
      "memory usage: 47.1+ KB\n"
     ]
    }
   ],
   "source": [
    "df['text_len'] = df.text.apply(len)\n",
    "df.info()"
   ]
  },
  {
   "cell_type": "markdown",
   "metadata": {},
   "source": [
    "Есть ли корреляция между средней длинной текста за день и ценой закрытия?"
   ]
  },
  {
   "cell_type": "code",
   "execution_count": 17,
   "metadata": {},
   "outputs": [
    {
     "name": "stdout",
     "output_type": "stream",
     "text": [
      "<class 'pandas.core.frame.DataFrame'>\n",
      "RangeIndex: 1988 entries, 0 to 1987\n",
      "Data columns (total 6 columns):\n",
      "Date            1988 non-null datetime64[ns]\n",
      "Open            1964 non-null object\n",
      "ClosingPrice    1988 non-null float64\n",
      "DailyHigh       1986 non-null object\n",
      "DailyLow        1986 non-null object\n",
      "VolumePcs       1988 non-null int64\n",
      "dtypes: datetime64[ns](1), float64(1), int64(1), object(3)\n",
      "memory usage: 93.3+ KB\n"
     ]
    }
   ],
   "source": [
    "pr_all.info()"
   ]
  },
  {
   "cell_type": "code",
   "execution_count": 18,
   "metadata": {
    "collapsed": true
   },
   "outputs": [],
   "source": [
    "df1 = df[['date', 'text_len']].groupby('date').mean().reset_index()\n",
    "df1 = df1.join(pr_all[['Date', 'ClosingPrice']].set_index('Date'), on='date')\n",
    "df1.drop(['date'], axis = 1, inplace=True)\n",
    "#df1.head()"
   ]
  },
  {
   "cell_type": "code",
   "execution_count": 19,
   "metadata": {
    "scrolled": true
   },
   "outputs": [
    {
     "name": "stdout",
     "output_type": "stream",
     "text": [
      "<class 'pandas.core.frame.DataFrame'>\n",
      "Int64Index: 1159 entries, 0 to 1202\n",
      "Data columns (total 2 columns):\n",
      "text_len        1159 non-null int64\n",
      "ClosingPrice    1159 non-null float64\n",
      "dtypes: float64(1), int64(1)\n",
      "memory usage: 27.2 KB\n"
     ]
    }
   ],
   "source": [
    "df1.dropna(inplace=True)\n",
    "df1.info()"
   ]
  },
  {
   "cell_type": "code",
   "execution_count": 20,
   "metadata": {},
   "outputs": [
    {
     "name": "stdout",
     "output_type": "stream",
     "text": [
      "Корреляция между средней длинной текста за день и ценой закрытия отсутствует\n",
      "pearson correlation = 0.0142\n"
     ]
    },
    {
     "data": {
      "image/png": "[encoded data removed]",
      "text/plain": [
       "<matplotlib.figure.Figure at 0x1c6e95b31d0>"
      ]
     },
     "metadata": {},
     "output_type": "display_data"
    }
   ],
   "source": [
    "sns.regplot(df1.text_len, df1.ClosingPrice)\n",
    "print('Корреляция между средней длинной текста за день и ценой закрытия отсутствует\\n\\\n",
    "pearson correlation = {:.4f}'.format(df1.corr().text_len.min()))"
   ]
  },
  {
   "cell_type": "markdown",
   "metadata": {},
   "source": [
    "Есть ли корреляция между количеством упоминаний Алексея Миллера и ценой закрытия?"
   ]
  },
  {
   "cell_type": "code",
   "execution_count": 21,
   "metadata": {},
   "outputs": [
    {
     "data": {
      "text/plain": [
       "0    1101\n",
       "1      71\n",
       "2      20\n",
       "3       7\n",
       "4       2\n",
       "6       1\n",
       "5       1\n",
       "Name: miller, dtype: int64"
      ]
     },
     "execution_count": 21,
     "metadata": {},
     "output_type": "execute_result"
    }
   ],
   "source": [
    "df['miller'] = df.lem_text.str.count('миллер')\n",
    "df.miller.value_counts()"
   ]
  },
  {
   "cell_type": "code",
   "execution_count": 22,
   "metadata": {},
   "outputs": [
    {
     "name": "stdout",
     "output_type": "stream",
     "text": [
      "<class 'pandas.core.frame.DataFrame'>\n",
      "Int64Index: 1159 entries, 0 to 1202\n",
      "Data columns (total 2 columns):\n",
      "miller          1159 non-null int64\n",
      "ClosingPrice    1159 non-null float64\n",
      "dtypes: float64(1), int64(1)\n",
      "memory usage: 27.2 KB\n"
     ]
    }
   ],
   "source": [
    "df1 = df[['date', 'miller']].groupby('date').mean().reset_index()\n",
    "df1 = df1.join(pr_all[['Date', 'ClosingPrice']].set_index('Date'), on='date')\n",
    "df1.drop(['date'], axis = 1, inplace=True)\n",
    "df1.dropna(inplace=True)\n",
    "df1.info()"
   ]
  },
  {
   "cell_type": "code",
   "execution_count": 23,
   "metadata": {
    "scrolled": true
   },
   "outputs": [
    {
     "name": "stdout",
     "output_type": "stream",
     "text": [
      "Корреляция между количеством упоминаний Алексея Миллера и ценой закрытия отсутствует\n",
      "pearson correlation = 0.0106\n"
     ]
    },
    {
     "data": {
      "image/png": "[encoded data removed]",
      "text/plain": [
       "<matplotlib.figure.Figure at 0x1c6e95b3518>"
      ]
     },
     "metadata": {},
     "output_type": "display_data"
    }
   ],
   "source": [
    "sns.boxplot(df1.miller, df1.ClosingPrice)\n",
    "print('Корреляция между количеством упоминаний Алексея Миллера и ценой закрытия отсутствует\\n\\\n",
    "pearson correlation = {:.4f}'.format(df1.corr().miller.min()))"
   ]
  },
  {
   "cell_type": "markdown",
   "metadata": {},
   "source": [
    "Упоминаний какого газопровода в статьях больше:\n",
    "\"северный поток\" или\n",
    "\"турецкий поток\"?"
   ]
  },
  {
   "cell_type": "code",
   "execution_count": 24,
   "metadata": {},
   "outputs": [
    {
     "name": "stdout",
     "output_type": "stream",
     "text": [
      "Северный поток упоминается в 12 новостях\n",
      "Турецкий поток упоминается в 34 новостях\n",
      "Турецкий поток упоминается чаще\n"
     ]
    }
   ],
   "source": [
    "print('Северный поток упоминается в {} новостях'.format(df.lem_text.str.contains('северный поток').sum()))\n",
    "print('Турецкий поток упоминается в {} новостях'.format(df.lem_text.str.contains('турецкий поток').sum()))\n",
    "print('Турецкий поток упоминается чаще')"
   ]
  },
  {
   "cell_type": "markdown",
   "metadata": {},
   "source": [
    "О каких санкциях пишут в статьях?"
   ]
  },
  {
   "cell_type": "code",
   "execution_count": 25,
   "metadata": {
    "collapsed": true
   },
   "outputs": [],
   "source": [
    "#очищаю текст от английских слов для корректной работы syntax_net\n",
    "import re\n",
    "regex = re.compile(\"[^$A-Za-z]+\")\n",
    "\n",
    "def words_only(text, regex=regex):\n",
    "    return \" \".join(regex.findall(text))"
   ]
  },
  {
   "cell_type": "code",
   "execution_count": 26,
   "metadata": {},
   "outputs": [
    {
     "name": "stdout",
     "output_type": "stream",
     "text": [
      "42932\n",
      "42429\n"
     ]
    }
   ],
   "source": [
    "#df.loc[df.lem_text.str.contains('санкция')]['text'].to_csv('data/news.txt', sep='\\n', index=False, encoding='utf-8')\n",
    "df_sanc = df.loc[df.lem_text.str.contains('санкция')]['text'].copy()\n",
    "text=''\n",
    "for news in df_sanc:\n",
    "    text += news\n",
    "print(len(text))\n",
    "text = words_only(text)\n",
    "print(len(text))"
   ]
  },
  {
   "cell_type": "code",
   "execution_count": 27,
   "metadata": {},
   "outputs": [
    {
     "name": "stdout",
     "output_type": "stream",
     "text": [
      "328\n",
      "68\n"
     ]
    }
   ],
   "source": [
    "from nltk.tokenize import sent_tokenize\n",
    "\n",
    "sents = sent_tokenize(text)\n",
    "\n",
    "thefile = open('data/news.txt', 'w', encoding='utf-8')\n",
    "i = 0\n",
    "for item in sents:\n",
    "    if 'санкц' in item:\n",
    "        thefile.write(\"%s\\n\" % item)\n",
    "        i += 1\n",
    "thefile.close()\n",
    "print(len(sents))\n",
    "print(i)"
   ]
  },
  {
   "cell_type": "code",
   "execution_count": 28,
   "metadata": {
    "collapsed": true
   },
   "outputs": [],
   "source": [
    "# запустил docker на виртуалке\n",
    "#! cat data/news.txt | docker run --rm -i inemo/syntaxnet_rus > data.conll\n",
    "# для корректного выполнения следующего кода в полном объеме, пришлось удалить три предложения. В чем проблема с ними - не понял.\n",
    "# в результате пропала пара \"антироссийские санкции\""
   ]
  },
  {
   "cell_type": "code",
   "execution_count": 29,
   "metadata": {
    "collapsed": true,
    "scrolled": false
   },
   "outputs": [],
   "source": [
    "from nltk import DependencyGraph\n",
    "import codecs\n",
    "\n",
    "processed_sentences = []\n",
    "sentence = []\n",
    "for line in codecs.open('data.conll', 'r', 'utf-8'):\n",
    "    if len(line) == 1:\n",
    "        processed_sentences.append(sentence)\n",
    "        sentence = []\n",
    "    else:\n",
    "        word = line.split(\"\\t\")\n",
    "        sentence.append(word)\n",
    "\n",
    "deps = []\n",
    "for sentence in processed_sentences:\n",
    "    s = u\"\"\n",
    "    for line in sentence:\n",
    "        s += u\"\\t\".join(line) + u'\\n'\n",
    "    deps.append(s)\n",
    "\n",
    "for sent_dep in deps:\n",
    "    graph = DependencyGraph(tree_str=sent_dep)\n",
    "#    for triple in graph.triples():\n",
    "#        if triple:\n",
    "#            print(triple)\n",
    "    tree = graph.tree()\n",
    "#    print(tree.pretty_print())"
   ]
  },
  {
   "cell_type": "code",
   "execution_count": 30,
   "metadata": {},
   "outputs": [
    {
     "name": "stdout",
     "output_type": "stream",
     "text": [
      "санкций американских\n",
      "санкций, западных\n",
      "санкций введенных\n",
      "санкций западных\n",
      "санкций. очередных\n",
      "санкции западные\n",
      "санкциями введенными\n",
      "санкциями экономическими\n",
      "санкции персональные\n",
      "санкциями, затронутых\n",
      "санкции штрафные\n",
      "санкций западных\n",
      "санкций западных\n",
      "санкций секторальных\n",
      "санкций секторальных\n",
      "санкций западных\n",
      "санкции. западные\n",
      "санкций, введенных\n",
      "санкций, введенных\n",
      "санкции, визовые\n",
      "санкции,— международные\n",
      "санкции,— международные\n",
      "санкций штрафных\n"
     ]
    }
   ],
   "source": [
    "for sent_dep in deps:\n",
    "    graph = DependencyGraph(tree_str=sent_dep)\n",
    "    for triple in graph.triples():\n",
    "        if triple:\n",
    "            if ('санкц' in triple[0][0]) & (triple[1] == 'amod'):\n",
    "                print(triple[0][0], triple[2][0])"
   ]
  },
  {
   "cell_type": "markdown",
   "metadata": {},
   "source": [
    "## Часть 2. Классификационная\n",
    "Вам предстоит решить следующую задачу: по текстам новостей за день определить, вырастет или понизится цена закрытия.\n",
    "Для этого:\n",
    "* бинаризуйте признак \"цена закрытия\":  новый признак ClosingPrice_bin равен 1, если по сравнению со вчера цена не упала, и 0 – в обратном случаея;\n",
    "* составьте бучающее и тестовое множество: данные до начала 2016 года используются для обучения, данные с 2016 года и позже – для тестирования.\n",
    "\n",
    "Таким образом, в каждлый момент времени мы знаем: \n",
    "* ClosingPrice_bin – бинарый целевой признак\n",
    "* слова из статей, опубликованных в этот день – объясняющие признаки\n",
    "\n",
    "В этой части задания вам нужно сделать baseline алгоритм и попытаться его улучшить в следующей части. \n",
    "\n",
    "Используйте любой известный вам алгоритм классификации текстов для того, Используйте $tf-idf$ преобразование, сингулярное разложение, нормировку признакого пространства и любые другие техники обработки данных, которые вы считаете нужным. Используйте accuracy и F-measure для оценки качества классификации. Покажите, как  $tf-idf$ преобразование или сингулярное разложение или любая другая использованная вами техника влияет на качество классификации.\n",
    "Если у выбранного вами алгоритма есть гиперпараметры (например, $\\alpha$ в преобразовании Лапласа для метода наивного Байеса), покажите, как изменение гиперпараметра влияет на качество классификации."
   ]
  },
  {
   "cell_type": "code",
   "execution_count": 31,
   "metadata": {
    "collapsed": true
   },
   "outputs": [],
   "source": [
    "pr1 = pr_all.sort_values('Date', axis=0).reset_index()\n",
    "pr2 = pr1.drop(0, axis=0).reset_index()\n",
    "pr1 = pr1.drop(len(pr1)-1, axis=0).reset_index()"
   ]
  },
  {
   "cell_type": "code",
   "execution_count": 32,
   "metadata": {},
   "outputs": [
    {
     "data": {
      "text/html": [
       "<div>\n",
       "<style>\n",
       "    .dataframe thead tr:only-child th {\n",
       "        text-align: right;\n",
       "    }\n",
       "\n",
       "    .dataframe thead th {\n",
       "        text-align: left;\n",
       "    }\n",
       "\n",
       "    .dataframe tbody tr th {\n",
       "        vertical-align: top;\n",
       "    }\n",
       "</style>\n",
       "<table border=\"1\" class=\"dataframe\">\n",
       "  <thead>\n",
       "    <tr style=\"text-align: right;\">\n",
       "      <th></th>\n",
       "      <th>level_0</th>\n",
       "      <th>index</th>\n",
       "      <th>Date</th>\n",
       "      <th>Open</th>\n",
       "      <th>ClosingPrice</th>\n",
       "      <th>DailyHigh</th>\n",
       "      <th>DailyLow</th>\n",
       "      <th>VolumePcs</th>\n",
       "      <th>ClosingPrice_bin</th>\n",
       "    </tr>\n",
       "  </thead>\n",
       "  <tbody>\n",
       "    <tr>\n",
       "      <th>1982</th>\n",
       "      <td>1983</td>\n",
       "      <td>167</td>\n",
       "      <td>2017-12-04</td>\n",
       "      <td>127,05000</td>\n",
       "      <td>125.05</td>\n",
       "      <td>127,45000</td>\n",
       "      <td>124,62000</td>\n",
       "      <td>28978480</td>\n",
       "      <td>-32.20</td>\n",
       "    </tr>\n",
       "    <tr>\n",
       "      <th>1983</th>\n",
       "      <td>1984</td>\n",
       "      <td>148</td>\n",
       "      <td>2017-12-05</td>\n",
       "      <td>131,41000</td>\n",
       "      <td>132.50</td>\n",
       "      <td>132,50000</td>\n",
       "      <td>130,20000</td>\n",
       "      <td>23895330</td>\n",
       "      <td>7.45</td>\n",
       "    </tr>\n",
       "    <tr>\n",
       "      <th>1984</th>\n",
       "      <td>1985</td>\n",
       "      <td>106</td>\n",
       "      <td>2017-12-07</td>\n",
       "      <td>NaN</td>\n",
       "      <td>124.87</td>\n",
       "      <td>125,19000</td>\n",
       "      <td>124,21000</td>\n",
       "      <td>22746970</td>\n",
       "      <td>-7.63</td>\n",
       "    </tr>\n",
       "    <tr>\n",
       "      <th>1985</th>\n",
       "      <td>1986</td>\n",
       "      <td>62</td>\n",
       "      <td>2017-12-09</td>\n",
       "      <td>121,29000</td>\n",
       "      <td>121.99</td>\n",
       "      <td>122,00000</td>\n",
       "      <td>120,16000</td>\n",
       "      <td>27281490</td>\n",
       "      <td>-2.88</td>\n",
       "    </tr>\n",
       "    <tr>\n",
       "      <th>1986</th>\n",
       "      <td>1987</td>\n",
       "      <td>40</td>\n",
       "      <td>2017-12-10</td>\n",
       "      <td>126,05000</td>\n",
       "      <td>125.93</td>\n",
       "      <td>126,79000</td>\n",
       "      <td>125,45000</td>\n",
       "      <td>18077300</td>\n",
       "      <td>3.94</td>\n",
       "    </tr>\n",
       "  </tbody>\n",
       "</table>\n",
       "</div>"
      ],
      "text/plain": [
       "      level_0  index       Date       Open  ClosingPrice  DailyHigh  \\\n",
       "1982     1983    167 2017-12-04  127,05000        125.05  127,45000   \n",
       "1983     1984    148 2017-12-05  131,41000        132.50  132,50000   \n",
       "1984     1985    106 2017-12-07        NaN        124.87  125,19000   \n",
       "1985     1986     62 2017-12-09  121,29000        121.99  122,00000   \n",
       "1986     1987     40 2017-12-10  126,05000        125.93  126,79000   \n",
       "\n",
       "       DailyLow  VolumePcs  ClosingPrice_bin  \n",
       "1982  124,62000   28978480            -32.20  \n",
       "1983  130,20000   23895330              7.45  \n",
       "1984  124,21000   22746970             -7.63  \n",
       "1985  120,16000   27281490             -2.88  \n",
       "1986  125,45000   18077300              3.94  "
      ]
     },
     "execution_count": 32,
     "metadata": {},
     "output_type": "execute_result"
    }
   ],
   "source": [
    "pr_all.sort_values('Date', axis=0, inplace=True)\n",
    "pr_all.reset_index(inplace=True)\n",
    "pr_all_bin = pr_all.drop(0, axis=0).reset_index()\n",
    "cl_price = pr2['ClosingPrice'] - pr1['ClosingPrice']\n",
    "pr_all_bin['ClosingPrice_bin'] = cl_price\n",
    "pr_all_bin.tail()"
   ]
  },
  {
   "cell_type": "code",
   "execution_count": 33,
   "metadata": {
    "collapsed": true,
    "scrolled": false
   },
   "outputs": [],
   "source": [
    "pr_all_bin['ClosingPrice_bin'] = [ 1 if x >= 0 else 0 for x in pr_all_bin['ClosingPrice_bin'] ]"
   ]
  },
  {
   "cell_type": "code",
   "execution_count": 34,
   "metadata": {},
   "outputs": [
    {
     "data": {
      "text/plain": [
       "1"
      ]
     },
     "execution_count": 34,
     "metadata": {},
     "output_type": "execute_result"
    }
   ],
   "source": [
    "df['date'].value_counts().max()"
   ]
  },
  {
   "cell_type": "code",
   "execution_count": 35,
   "metadata": {
    "scrolled": false
   },
   "outputs": [
    {
     "data": {
      "text/plain": [
       "(1158, 3)"
      ]
     },
     "execution_count": 35,
     "metadata": {},
     "output_type": "execute_result"
    }
   ],
   "source": [
    "X = df[['date', 'lem_text']].sort_values('date').reset_index()\n",
    "X.drop('index', axis = 1, inplace=True)\n",
    "X = X.join(pr_all_bin[['Date', 'ClosingPrice_bin']].set_index('Date'), on='date')\n",
    "X.dropna(inplace=True)\n",
    "X.shape"
   ]
  },
  {
   "cell_type": "code",
   "execution_count": 36,
   "metadata": {},
   "outputs": [
    {
     "name": "stdout",
     "output_type": "stream",
     "text": [
      "(900,) (900,)\n"
     ]
    }
   ],
   "source": [
    "#составьте бучающее и тестовое множество: данные до начала 2016 года используются для обучения, \n",
    "#данные с 2016 года и позже – для тестирования.\n",
    "X_train = X[X.date <= pd.datetime(2015, 12, 31)]['lem_text']\n",
    "y_train = X[X.date <= pd.datetime(2015, 12, 31)]['ClosingPrice_bin']\n",
    "print(X_train.shape, y_train.shape)"
   ]
  },
  {
   "cell_type": "code",
   "execution_count": 37,
   "metadata": {},
   "outputs": [
    {
     "name": "stdout",
     "output_type": "stream",
     "text": [
      "(258,) (258,)\n"
     ]
    }
   ],
   "source": [
    "X_test = X[X.date > pd.datetime(2015, 12, 31)]['lem_text']\n",
    "y_test = X[X.date > pd.datetime(2015, 12, 31)]['ClosingPrice_bin']\n",
    "print(X_test.shape, y_test.shape)"
   ]
  },
  {
   "cell_type": "code",
   "execution_count": 60,
   "metadata": {
    "collapsed": true
   },
   "outputs": [],
   "source": [
    "#с помощью gridsearch выбираю лучшую модель\n",
    "from sklearn.naive_bayes import MultinomialNB\n",
    "from sklearn.feature_extraction.text import CountVectorizer\n",
    "from sklearn.pipeline import Pipeline\n",
    "from sklearn.feature_extraction.text import TfidfTransformer\n",
    "from sklearn.model_selection import GridSearchCV\n",
    "from sklearn.ensemble import RandomForestClassifier\n",
    "from sklearn.linear_model import LogisticRegression\n",
    "from sklearn.svm import LinearSVC\n",
    "\n",
    "text_clf = Pipeline([('vect', CountVectorizer()), \n",
    "                     ('tfidf', TfidfTransformer()), \n",
    "                     ('clf', MultinomialNB())])\n",
    "\n",
    "NGRAM_RANGE = [(1, 1), (1, 2), (2, 2)]\n",
    "ALPHA = [0.05, 0.1, 0.2, 0.5, 1, 1.25, 1.5, 2]\n",
    "MIN_DF_RANGE = [0.01, 0.02, 0.03]\n",
    "MAX_DF_RANGE = [0.10, 0.15, 0.20]\n",
    "USE_IDF = [True, False]\n",
    "C_OPTIONS = [0.001, 0.01, 0.1, 1, 10, 100, 1000]\n",
    "N_ESTIMATORS = [10, 100, 200, 300]\n",
    "\n",
    "param_grid = [\n",
    "    {\n",
    "        'clf': [MultinomialNB()],\n",
    "        'vect__ngram_range': NGRAM_RANGE,\n",
    "        'vect__min_df': MIN_DF_RANGE,\n",
    "        'vect__max_df': MAX_DF_RANGE,\n",
    "        'clf__alpha': ALPHA,\n",
    "        'tfidf__use_idf': USE_IDF\n",
    "    },\n",
    "    {\n",
    "        'clf': [RandomForestClassifier()],\n",
    "        'vect__ngram_range': NGRAM_RANGE,\n",
    "        'vect__min_df': MIN_DF_RANGE,\n",
    "        'vect__max_df': MAX_DF_RANGE,\n",
    "        'clf__n_estimators': N_ESTIMATORS,\n",
    "        'tfidf__use_idf': USE_IDF\n",
    "    },\n",
    "    {\n",
    "        'clf': [LogisticRegression(), LinearSVC()],\n",
    "        'vect__ngram_range': NGRAM_RANGE,\n",
    "        'vect__min_df': MIN_DF_RANGE,\n",
    "        'vect__max_df': MAX_DF_RANGE,\n",
    "        'clf__C': C_OPTIONS,\n",
    "        'tfidf__use_idf': USE_IDF\n",
    "    },\n",
    "]\n",
    "\n",
    "grid = GridSearchCV(text_clf, cv=4, n_jobs=-1, param_grid=param_grid, verbose=10)"
   ]
  },
  {
   "cell_type": "code",
   "execution_count": 61,
   "metadata": {},
   "outputs": [
    {
     "name": "stdout",
     "output_type": "stream",
     "text": [
      "Fitting 4 folds for each of 1404 candidates, totalling 5616 fits\n"
     ]
    },
    {
     "name": "stderr",
     "output_type": "stream",
     "text": [
      "[Parallel(n_jobs=-1)]: Done   5 tasks      | elapsed:   37.8s\n",
      "[Parallel(n_jobs=-1)]: Done  10 tasks      | elapsed:   38.5s\n",
      "[Parallel(n_jobs=-1)]: Done  17 tasks      | elapsed:   39.7s\n",
      "[Parallel(n_jobs=-1)]: Done  24 tasks      | elapsed:   41.0s\n",
      "[Parallel(n_jobs=-1)]: Done  33 tasks      | elapsed:   42.8s\n",
      "[Parallel(n_jobs=-1)]: Done  42 tasks      | elapsed:   44.5s\n",
      "[Parallel(n_jobs=-1)]: Done  53 tasks      | elapsed:   46.6s\n",
      "[Parallel(n_jobs=-1)]: Done  64 tasks      | elapsed:   47.9s\n",
      "[Parallel(n_jobs=-1)]: Done  77 tasks      | elapsed:   50.6s\n",
      "[Parallel(n_jobs=-1)]: Done  90 tasks      | elapsed:   52.7s\n",
      "[Parallel(n_jobs=-1)]: Done 105 tasks      | elapsed:   55.4s\n",
      "[Parallel(n_jobs=-1)]: Done 120 tasks      | elapsed:   57.6s\n",
      "[Parallel(n_jobs=-1)]: Done 137 tasks      | elapsed:  1.0min\n",
      "[Parallel(n_jobs=-1)]: Done 154 tasks      | elapsed:  1.1min\n",
      "[Parallel(n_jobs=-1)]: Done 173 tasks      | elapsed:  1.1min\n",
      "[Parallel(n_jobs=-1)]: Done 192 tasks      | elapsed:  1.2min\n",
      "[Parallel(n_jobs=-1)]: Done 213 tasks      | elapsed:  1.3min\n",
      "[Parallel(n_jobs=-1)]: Done 234 tasks      | elapsed:  1.3min\n",
      "[Parallel(n_jobs=-1)]: Done 257 tasks      | elapsed:  1.4min\n",
      "[Parallel(n_jobs=-1)]: Done 280 tasks      | elapsed:  1.4min\n",
      "[Parallel(n_jobs=-1)]: Done 305 tasks      | elapsed:  1.5min\n",
      "[Parallel(n_jobs=-1)]: Done 330 tasks      | elapsed:  1.6min\n",
      "[Parallel(n_jobs=-1)]: Done 357 tasks      | elapsed:  1.7min\n",
      "[Parallel(n_jobs=-1)]: Done 384 tasks      | elapsed:  1.8min\n",
      "[Parallel(n_jobs=-1)]: Done 413 tasks      | elapsed:  1.9min\n",
      "[Parallel(n_jobs=-1)]: Done 442 tasks      | elapsed:  2.0min\n",
      "[Parallel(n_jobs=-1)]: Done 473 tasks      | elapsed:  2.0min\n",
      "[Parallel(n_jobs=-1)]: Done 504 tasks      | elapsed:  2.1min\n",
      "[Parallel(n_jobs=-1)]: Done 537 tasks      | elapsed:  2.2min\n",
      "[Parallel(n_jobs=-1)]: Done 570 tasks      | elapsed:  2.3min\n",
      "[Parallel(n_jobs=-1)]: Done 605 tasks      | elapsed:  2.4min\n",
      "[Parallel(n_jobs=-1)]: Done 640 tasks      | elapsed:  2.5min\n",
      "[Parallel(n_jobs=-1)]: Done 677 tasks      | elapsed:  2.6min\n",
      "[Parallel(n_jobs=-1)]: Done 714 tasks      | elapsed:  2.7min\n",
      "[Parallel(n_jobs=-1)]: Done 753 tasks      | elapsed:  2.8min\n",
      "[Parallel(n_jobs=-1)]: Done 792 tasks      | elapsed:  2.9min\n",
      "[Parallel(n_jobs=-1)]: Done 833 tasks      | elapsed:  3.0min\n",
      "[Parallel(n_jobs=-1)]: Done 874 tasks      | elapsed:  3.2min\n",
      "[Parallel(n_jobs=-1)]: Done 917 tasks      | elapsed:  3.3min\n",
      "[Parallel(n_jobs=-1)]: Done 960 tasks      | elapsed:  3.4min\n",
      "[Parallel(n_jobs=-1)]: Done 1005 tasks      | elapsed:  3.5min\n",
      "[Parallel(n_jobs=-1)]: Done 1050 tasks      | elapsed:  3.6min\n",
      "[Parallel(n_jobs=-1)]: Done 1097 tasks      | elapsed:  3.7min\n",
      "[Parallel(n_jobs=-1)]: Done 1144 tasks      | elapsed:  3.9min\n",
      "[Parallel(n_jobs=-1)]: Done 1193 tasks      | elapsed:  4.0min\n",
      "[Parallel(n_jobs=-1)]: Done 1242 tasks      | elapsed:  4.1min\n",
      "[Parallel(n_jobs=-1)]: Done 1293 tasks      | elapsed:  4.2min\n",
      "[Parallel(n_jobs=-1)]: Done 1344 tasks      | elapsed:  4.4min\n",
      "[Parallel(n_jobs=-1)]: Done 1397 tasks      | elapsed:  4.5min\n",
      "[Parallel(n_jobs=-1)]: Done 1450 tasks      | elapsed:  4.7min\n",
      "[Parallel(n_jobs=-1)]: Done 1505 tasks      | elapsed:  4.8min\n",
      "[Parallel(n_jobs=-1)]: Done 1560 tasks      | elapsed:  4.9min\n",
      "[Parallel(n_jobs=-1)]: Done 1617 tasks      | elapsed:  5.1min\n",
      "[Parallel(n_jobs=-1)]: Done 1674 tasks      | elapsed:  5.2min\n",
      "[Parallel(n_jobs=-1)]: Done 1733 tasks      | elapsed:  5.5min\n",
      "[Parallel(n_jobs=-1)]: Done 1792 tasks      | elapsed:  5.6min\n",
      "[Parallel(n_jobs=-1)]: Done 1853 tasks      | elapsed:  5.8min\n",
      "[Parallel(n_jobs=-1)]: Done 1914 tasks      | elapsed:  6.0min\n",
      "[Parallel(n_jobs=-1)]: Done 1977 tasks      | elapsed:  6.3min\n",
      "[Parallel(n_jobs=-1)]: Done 2040 tasks      | elapsed:  6.6min\n",
      "[Parallel(n_jobs=-1)]: Done 2105 tasks      | elapsed:  7.0min\n",
      "[Parallel(n_jobs=-1)]: Done 2170 tasks      | elapsed:  7.5min\n",
      "[Parallel(n_jobs=-1)]: Done 2237 tasks      | elapsed:  8.1min\n",
      "[Parallel(n_jobs=-1)]: Done 2304 tasks      | elapsed:  8.7min\n",
      "[Parallel(n_jobs=-1)]: Done 2373 tasks      | elapsed:  9.4min\n",
      "[Parallel(n_jobs=-1)]: Done 2442 tasks      | elapsed: 10.2min\n",
      "[Parallel(n_jobs=-1)]: Done 2513 tasks      | elapsed: 11.1min\n",
      "[Parallel(n_jobs=-1)]: Done 2584 tasks      | elapsed: 12.0min\n",
      "[Parallel(n_jobs=-1)]: Done 2657 tasks      | elapsed: 12.3min\n",
      "[Parallel(n_jobs=-1)]: Done 2730 tasks      | elapsed: 12.5min\n",
      "[Parallel(n_jobs=-1)]: Done 2805 tasks      | elapsed: 12.7min\n",
      "[Parallel(n_jobs=-1)]: Done 2880 tasks      | elapsed: 12.9min\n",
      "[Parallel(n_jobs=-1)]: Done 2957 tasks      | elapsed: 13.1min\n",
      "[Parallel(n_jobs=-1)]: Done 3034 tasks      | elapsed: 13.3min\n",
      "[Parallel(n_jobs=-1)]: Done 3113 tasks      | elapsed: 13.5min\n",
      "[Parallel(n_jobs=-1)]: Done 3192 tasks      | elapsed: 13.7min\n",
      "[Parallel(n_jobs=-1)]: Done 3273 tasks      | elapsed: 13.9min\n",
      "[Parallel(n_jobs=-1)]: Done 3354 tasks      | elapsed: 14.1min\n",
      "[Parallel(n_jobs=-1)]: Done 3437 tasks      | elapsed: 15.3min\n",
      "[Parallel(n_jobs=-1)]: Done 3520 tasks      | elapsed: 15.5min\n",
      "[Parallel(n_jobs=-1)]: Done 3605 tasks      | elapsed: 15.9min\n",
      "[Parallel(n_jobs=-1)]: Done 3690 tasks      | elapsed: 16.3min\n",
      "[Parallel(n_jobs=-1)]: Done 3777 tasks      | elapsed: 16.5min\n",
      "[Parallel(n_jobs=-1)]: Done 3864 tasks      | elapsed: 16.7min\n",
      "[Parallel(n_jobs=-1)]: Done 3953 tasks      | elapsed: 17.0min\n",
      "[Parallel(n_jobs=-1)]: Done 4042 tasks      | elapsed: 17.2min\n",
      "[Parallel(n_jobs=-1)]: Done 4133 tasks      | elapsed: 17.4min\n",
      "[Parallel(n_jobs=-1)]: Done 4224 tasks      | elapsed: 17.7min\n",
      "[Parallel(n_jobs=-1)]: Done 4317 tasks      | elapsed: 17.9min\n",
      "[Parallel(n_jobs=-1)]: Done 4410 tasks      | elapsed: 18.2min\n",
      "[Parallel(n_jobs=-1)]: Done 4505 tasks      | elapsed: 18.4min\n",
      "[Parallel(n_jobs=-1)]: Done 4600 tasks      | elapsed: 18.7min\n",
      "[Parallel(n_jobs=-1)]: Done 4697 tasks      | elapsed: 19.0min\n",
      "[Parallel(n_jobs=-1)]: Done 4794 tasks      | elapsed: 19.2min\n",
      "[Parallel(n_jobs=-1)]: Done 4893 tasks      | elapsed: 19.5min\n",
      "[Parallel(n_jobs=-1)]: Done 4992 tasks      | elapsed: 19.8min\n",
      "[Parallel(n_jobs=-1)]: Done 5093 tasks      | elapsed: 20.1min\n",
      "[Parallel(n_jobs=-1)]: Done 5194 tasks      | elapsed: 20.4min\n",
      "[Parallel(n_jobs=-1)]: Done 5297 tasks      | elapsed: 20.7min\n",
      "[Parallel(n_jobs=-1)]: Done 5400 tasks      | elapsed: 21.0min\n",
      "[Parallel(n_jobs=-1)]: Done 5505 tasks      | elapsed: 21.3min\n",
      "[Parallel(n_jobs=-1)]: Done 5616 out of 5616 | elapsed: 21.6min finished\n"
     ]
    },
    {
     "data": {
      "text/plain": [
       "GridSearchCV(cv=4, error_score='raise',\n",
       "       estimator=Pipeline(memory=None,\n",
       "     steps=[('vect', CountVectorizer(analyzer='word', binary=False, decode_error='strict',\n",
       "        dtype=<class 'numpy.int64'>, encoding='utf-8', input='content',\n",
       "        lowercase=True, max_df=1.0, max_features=None, min_df=1,\n",
       "        ngram_range=(1, 1), preprocessor=None, stop_words=None,\n",
       "        strip...inear_tf=False, use_idf=True)), ('clf', MultinomialNB(alpha=1.0, class_prior=None, fit_prior=True))]),\n",
       "       fit_params=None, iid=True, n_jobs=-1,\n",
       "       param_grid=[{'clf': [MultinomialNB(alpha=0.05, class_prior=None, fit_prior=True)], 'vect__ngram_range': [(1, 1), (1, 2), (2, 2)], 'vect__min_df': [0.01, 0.02, 0.03], 'vect__max_df': [0.1, 0.15, 0.2], 'clf__alpha': [0.05, 0.1, 0.2, 0.5, 1, 1.25, 1.5, 2], 'tfidf__use_idf': [True, False]}, {'clf': [Ran... [0.1, 0.15, 0.2], 'clf__C': [0.001, 0.01, 0.1, 1, 10, 100, 1000], 'tfidf__use_idf': [True, False]}],\n",
       "       pre_dispatch='2*n_jobs', refit=True, return_train_score=True,\n",
       "       scoring=None, verbose=10)"
      ]
     },
     "execution_count": 61,
     "metadata": {},
     "output_type": "execute_result"
    }
   ],
   "source": [
    "grid.fit(X_train, y_train)"
   ]
  },
  {
   "cell_type": "code",
   "execution_count": 64,
   "metadata": {
    "scrolled": true
   },
   "outputs": [
    {
     "name": "stdout",
     "output_type": "stream",
     "text": [
      "('vect', CountVectorizer(analyzer='word', binary=False, decode_error='strict',\n",
      "        dtype=<class 'numpy.int64'>, encoding='utf-8', input='content',\n",
      "        lowercase=True, max_df=0.2, max_features=None, min_df=0.02,\n",
      "        ngram_range=(1, 1), preprocessor=None, stop_words=None,\n",
      "        strip_accents=None, token_pattern='(?u)\\\\b\\\\w\\\\w+\\\\b',\n",
      "        tokenizer=None, vocabulary=None))\n"
     ]
    }
   ],
   "source": [
    "print(grid.best_estimator_.steps[0])"
   ]
  },
  {
   "cell_type": "code",
   "execution_count": 65,
   "metadata": {},
   "outputs": [],
   "source": [
    "#лучшая модель:\n",
    "text_clf = Pipeline([('vect', CountVectorizer(max_df=0.2, min_df=0.02, ngram_range=(1,1))), \n",
    "                     ('tfidf', TfidfTransformer(use_idf=True)), \n",
    "#                     ('clf', RandomForestClassifier(n_estimators=10))])\n",
    "                     ('clf', MultinomialNB(alpha=0.05))])"
   ]
  },
  {
   "cell_type": "code",
   "execution_count": 66,
   "metadata": {
    "collapsed": true
   },
   "outputs": [],
   "source": [
    "text_clf.fit(X_train, y_train)\n",
    "predicted = text_clf.predict(X_test)"
   ]
  },
  {
   "cell_type": "code",
   "execution_count": 67,
   "metadata": {
    "scrolled": true
   },
   "outputs": [
    {
     "name": "stdout",
     "output_type": "stream",
     "text": [
      "acc=0.5233\n",
      "micro F1=0.5233\n",
      "macro F1=0.4988\n"
     ]
    }
   ],
   "source": [
    "from sklearn.metrics import *\n",
    "acc = accuracy_score(predicted, y_test)\n",
    "micro_f1 = f1_score(predicted, y_test, average = 'micro')\n",
    "macro_f1 = f1_score(predicted, y_test, average = 'macro')\n",
    "print('acc={0:1.4f}'.format(acc))\n",
    "print('micro F1={0:1.4f}'.format(micro_f1))\n",
    "print('macro F1={0:1.4f}'.format(macro_f1))"
   ]
  },
  {
   "cell_type": "code",
   "execution_count": 68,
   "metadata": {
    "scrolled": true
   },
   "outputs": [
    {
     "name": "stdout",
     "output_type": "stream",
     "text": [
      "acc=0.5039\n",
      "micro F1=0.5039\n",
      "macro F1=0.4904\n"
     ]
    }
   ],
   "source": [
    "#без tfidf предсказания хуже:\n",
    "text_clf = Pipeline([('vect', CountVectorizer(max_df=0.2, min_df=0.02, ngram_range=(1,1))),  \n",
    "                     ('clf', MultinomialNB(alpha=0.05))])\n",
    "\n",
    "text_clf.fit(X_train, y_train)\n",
    "predicted = text_clf.predict(X_test)\n",
    "\n",
    "acc = accuracy_score(predicted, y_test)\n",
    "micro_f1 = f1_score(predicted, y_test, average = 'micro')\n",
    "macro_f1 = f1_score(predicted, y_test, average = 'macro')\n",
    "print('acc={0:1.4f}'.format(acc))\n",
    "print('micro F1={0:1.4f}'.format(micro_f1))\n",
    "print('macro F1={0:1.4f}'.format(macro_f1))"
   ]
  },
  {
   "cell_type": "code",
   "execution_count": 45,
   "metadata": {},
   "outputs": [
    {
     "name": "stdout",
     "output_type": "stream",
     "text": [
      "Fitting 4 folds for each of 199 candidates, totalling 796 fits\n"
     ]
    },
    {
     "name": "stderr",
     "output_type": "stream",
     "text": [
      "[Parallel(n_jobs=-1)]: Done   5 tasks      | elapsed:   54.2s\n",
      "[Parallel(n_jobs=-1)]: Done  10 tasks      | elapsed:   54.6s\n",
      "[Parallel(n_jobs=-1)]: Done  17 tasks      | elapsed:   55.3s\n",
      "[Parallel(n_jobs=-1)]: Done  24 tasks      | elapsed:   56.0s\n",
      "[Parallel(n_jobs=-1)]: Done  33 tasks      | elapsed:   56.7s\n",
      "[Parallel(n_jobs=-1)]: Done  42 tasks      | elapsed:   57.4s\n",
      "[Parallel(n_jobs=-1)]: Done  53 tasks      | elapsed:   58.4s\n",
      "[Parallel(n_jobs=-1)]: Done  64 tasks      | elapsed:   59.4s\n",
      "[Parallel(n_jobs=-1)]: Done  77 tasks      | elapsed:  1.0min\n",
      "[Parallel(n_jobs=-1)]: Done  90 tasks      | elapsed:  1.0min\n",
      "[Parallel(n_jobs=-1)]: Done 105 tasks      | elapsed:  1.1min\n",
      "[Parallel(n_jobs=-1)]: Done 120 tasks      | elapsed:  1.1min\n",
      "[Parallel(n_jobs=-1)]: Done 137 tasks      | elapsed:  1.1min\n",
      "[Parallel(n_jobs=-1)]: Done 154 tasks      | elapsed:  1.1min\n",
      "[Parallel(n_jobs=-1)]: Done 173 tasks      | elapsed:  1.2min\n",
      "[Parallel(n_jobs=-1)]: Done 192 tasks      | elapsed:  1.2min\n",
      "[Parallel(n_jobs=-1)]: Done 213 tasks      | elapsed:  1.2min\n",
      "[Parallel(n_jobs=-1)]: Done 234 tasks      | elapsed:  1.2min\n",
      "[Parallel(n_jobs=-1)]: Done 257 tasks      | elapsed:  1.3min\n",
      "[Parallel(n_jobs=-1)]: Done 280 tasks      | elapsed:  1.3min\n",
      "[Parallel(n_jobs=-1)]: Done 305 tasks      | elapsed:  1.3min\n",
      "[Parallel(n_jobs=-1)]: Done 330 tasks      | elapsed:  1.4min\n",
      "[Parallel(n_jobs=-1)]: Done 357 tasks      | elapsed:  1.4min\n",
      "[Parallel(n_jobs=-1)]: Done 384 tasks      | elapsed:  1.5min\n",
      "[Parallel(n_jobs=-1)]: Done 413 tasks      | elapsed:  1.5min\n",
      "[Parallel(n_jobs=-1)]: Done 442 tasks      | elapsed:  1.5min\n",
      "[Parallel(n_jobs=-1)]: Done 473 tasks      | elapsed:  1.6min\n",
      "[Parallel(n_jobs=-1)]: Done 504 tasks      | elapsed:  1.6min\n",
      "[Parallel(n_jobs=-1)]: Done 537 tasks      | elapsed:  1.7min\n",
      "[Parallel(n_jobs=-1)]: Done 570 tasks      | elapsed:  1.7min\n",
      "[Parallel(n_jobs=-1)]: Done 605 tasks      | elapsed:  1.8min\n",
      "[Parallel(n_jobs=-1)]: Done 640 tasks      | elapsed:  1.8min\n",
      "[Parallel(n_jobs=-1)]: Done 677 tasks      | elapsed:  1.9min\n",
      "[Parallel(n_jobs=-1)]: Done 714 tasks      | elapsed:  1.9min\n",
      "[Parallel(n_jobs=-1)]: Done 753 tasks      | elapsed:  2.0min\n",
      "[Parallel(n_jobs=-1)]: Done 796 out of 796 | elapsed:  2.1min finished\n"
     ]
    },
    {
     "data": {
      "text/plain": [
       "GridSearchCV(cv=4, error_score='raise',\n",
       "       estimator=Pipeline(memory=None,\n",
       "     steps=[('vect', CountVectorizer(analyzer='word', binary=False, decode_error='strict',\n",
       "        dtype=<class 'numpy.int64'>, encoding='utf-8', input='content',\n",
       "        lowercase=True, max_df=0.2, max_features=None, min_df=0.02,\n",
       "        ngram_range=(1, 1), preprocessor=None, stop_words=None,\n",
       "        st...inear_tf=False, use_idf=True)), ('clf', MultinomialNB(alpha=1.0, class_prior=None, fit_prior=True))]),\n",
       "       fit_params=None, iid=True, n_jobs=-1,\n",
       "       param_grid=[{'clf': [MultinomialNB(alpha=0.01, class_prior=None, fit_prior=True)], 'clf__alpha': array([ 0.01,  0.02, ...,  1.98,  1.99])}],\n",
       "       pre_dispatch='2*n_jobs', refit=True, return_train_score=True,\n",
       "       scoring=None, verbose=10)"
      ]
     },
     "execution_count": 45,
     "metadata": {},
     "output_type": "execute_result"
    }
   ],
   "source": [
    "#исследую влияние гиперпараметра alpha на accuracy\n",
    "text_clf = Pipeline([('vect', CountVectorizer(max_df=0.2, min_df=0.02, ngram_range=(1,1))), \n",
    "                     ('tfidf', TfidfTransformer()), \n",
    "                     ('clf', MultinomialNB())])\n",
    "\n",
    "ALPHA = np.arange(0.01, 2, 0.01)\n",
    "\n",
    "param_grid = [\n",
    "    {\n",
    "        'clf': [MultinomialNB()],\n",
    "        'clf__alpha': ALPHA,\n",
    "    }\n",
    "]\n",
    "\n",
    "grid = GridSearchCV(text_clf, cv=4, n_jobs=-1, param_grid=param_grid, verbose=10)\n",
    "grid.fit(X_train, y_train)"
   ]
  },
  {
   "cell_type": "code",
   "execution_count": 46,
   "metadata": {},
   "outputs": [
    {
     "name": "stderr",
     "output_type": "stream",
     "text": [
      "C:\\Users\\mershov\\AppData\\Local\\Continuum\\anaconda3\\lib\\site-packages\\sklearn\\model_selection\\_search.py:747: DeprecationWarning: The grid_scores_ attribute was deprecated in version 0.18 in favor of the more elaborate cv_results_ attribute. The grid_scores_ attribute will not be available from 0.20\n",
      "  DeprecationWarning)\n"
     ]
    },
    {
     "data": {
      "image/png": "[encoded data removed]",
      "text/plain": [
       "<matplotlib.figure.Figure at 0x1c6eae39358>"
      ]
     },
     "metadata": {},
     "output_type": "display_data"
    }
   ],
   "source": [
    "import matplotlib.pyplot as plt\n",
    "scores = [x[1] for x in grid.grid_scores_]\n",
    "\n",
    "plt.plot(ALPHA, scores)\n",
    "plt.xlabel('Alpha')\n",
    "plt.ylabel('Mean score')\n",
    "plt.show()"
   ]
  },
  {
   "cell_type": "markdown",
   "metadata": {},
   "source": [
    "## Часть 3. Творческая\n",
    "Придумайте и попытайтесь сделать еще что-нибудь, чтобы улучшить качество классификации. \n",
    "Направления развития:\n",
    "* Морфологический признаки: \n",
    "    * использовать в качестве признаков только существительные или только именованные сущности;\n",
    "* Модели скрытых тем:\n",
    "    * использовать в качестве признаков скрытые темы;\n",
    "    * использовать в качестве признаков динамические скрытые темы \n",
    "    пример тут: (https://github.com/RaRe-Technologies/gensim/blob/develop/docs/notebooks/dtm_example.ipynb)\n",
    "* Синтаксические признаки:\n",
    "    * использовать SOV-тройки в качестве признаков\n",
    "    * кластеризовать SOV-тройки по эмбеддингам глаголов (обученные word2vec модели можно скачать отсюда: (http://rusvectores.org/ru/models/) и использовать только центроиды кластеров в качестве признаков\n",
    "* что-нибудь еще     "
   ]
  }
 ],
 "metadata": {
  "kernelspec": {
   "display_name": "Python 3",
   "language": "python",
   "name": "python3"
  },
  "language_info": {
   "codemirror_mode": {
    "name": "ipython",
    "version": 3
   },
   "file_extension": ".py",
   "mimetype": "text/x-python",
   "name": "python",
   "nbconvert_exporter": "python",
   "pygments_lexer": "ipython3",
   "version": "3.6.2"
  }
 },
 "nbformat": 4,
 "nbformat_minor": 2
}
